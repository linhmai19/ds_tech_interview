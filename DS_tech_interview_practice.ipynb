{
 "cells": [
  {
   "cell_type": "code",
   "execution_count": null,
   "metadata": {},
   "outputs": [],
   "source": [
    "# 1)\n",
    "SELECT count(*) FROM Ads\n",
    "WHERE status = 'active';"
   ]
  },
  {
   "cell_type": "code",
   "execution_count": null,
   "metadata": {},
   "outputs": [],
   "source": [
    "# 2)\n",
    "SELECT DISTINCT a.campaign_id\n",
    "FROM Ads as a\n",
    "WHERE a.status = 'active';"
   ]
  },
  {
   "cell_type": "code",
   "execution_count": null,
   "metadata": {},
   "outputs": [],
   "source": [
    "#  3)\n",
    "SELECT COUNT(DISTINCT a.campaign_id)\n",
    "FROM Ads as a\n",
    "WHERE a.status = 'active';"
   ]
  },
  {
   "cell_type": "code",
   "execution_count": null,
   "metadata": {},
   "outputs": [],
   "source": [
    "# 4)\n",
    "SELECT a.ad_id, e.event_type, count(*) as count\n",
    "FROM Ads as a\n",
    "    JOIN Events as e\n",
    "        ON a.ad_id = e.ad_id\n",
    "GROUP BY a.ad_id, e.event_type\n",
    "GROUP BY a.ad_id, 'count' DESC;"
   ]
  },
  {
   "cell_type": "code",
   "execution_count": null,
   "metadata": {},
   "outputs": [],
   "source": [
    "# 5)\n",
    "SELECT a.ad_id, e.event_type, e.date, count(*) as count\n",
    "FROM Ads as a\n",
    "    JOIN Events as e\n",
    "        ON a.ad_id = e.ad_id\n",
    "WHERE a.status = 'active' \n",
    "    AND e.date >= DATEADD(week, -1, DATEDIFF(week,0,GETDATE()))\n",
    "GROUP BY a.ad_id, e.event_type, e.date\n",
    "ORDER BY e.date ASC, 'count' DESC;"
   ]
  },
  {
   "cell_type": "code",
   "execution_count": null,
   "metadata": {},
   "outputs": [],
   "source": []
  },
  {
   "cell_type": "code",
   "execution_count": null,
   "metadata": {},
   "outputs": [],
   "source": []
  }
 ],
 "metadata": {
  "kernelspec": {
   "display_name": "Python 3",
   "language": "python",
   "name": "python3"
  },
  "language_info": {
   "codemirror_mode": {
    "name": "ipython",
    "version": 3
   },
   "file_extension": ".py",
   "mimetype": "text/x-python",
   "name": "python",
   "nbconvert_exporter": "python",
   "pygments_lexer": "ipython3",
   "version": "3.7.6"
  }
 },
 "nbformat": 4,
 "nbformat_minor": 4
}
